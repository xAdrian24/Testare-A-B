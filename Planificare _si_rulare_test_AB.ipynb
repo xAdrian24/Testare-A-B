{
 "cells": [
  {
   "cell_type": "code",
   "execution_count": 1,
   "id": "a7dd7977",
   "metadata": {},
   "outputs": [],
   "source": [
    "import pandas as pd\n",
    "from scipy import stats\n",
    "import matplotlib.pyplot as plt\n",
    "import numpy as np\n"
   ]
  },
  {
   "cell_type": "code",
   "execution_count": 4,
   "id": "9fd90179",
   "metadata": {},
   "outputs": [
    {
     "data": {
      "text/html": [
       "<div>\n",
       "<style scoped>\n",
       "    .dataframe tbody tr th:only-of-type {\n",
       "        vertical-align: middle;\n",
       "    }\n",
       "\n",
       "    .dataframe tbody tr th {\n",
       "        vertical-align: top;\n",
       "    }\n",
       "\n",
       "    .dataframe thead th {\n",
       "        text-align: right;\n",
       "    }\n",
       "</style>\n",
       "<table border=\"1\" class=\"dataframe\">\n",
       "  <thead>\n",
       "    <tr style=\"text-align: right;\">\n",
       "      <th></th>\n",
       "      <th>user_id</th>\n",
       "      <th>timestamp</th>\n",
       "      <th>test_group</th>\n",
       "      <th>conversion</th>\n",
       "    </tr>\n",
       "  </thead>\n",
       "  <tbody>\n",
       "    <tr>\n",
       "      <th>0</th>\n",
       "      <td>7f6833e6-1141-4f20-b4b2-f1e31019b1fd</td>\n",
       "      <td>2023-07-04 04:40:55.848109</td>\n",
       "      <td>a</td>\n",
       "      <td>0</td>\n",
       "    </tr>\n",
       "    <tr>\n",
       "      <th>1</th>\n",
       "      <td>e6a6e960-d3f3-4074-a516-ba1e609b211e</td>\n",
       "      <td>2023-07-06 00:26:45.486187</td>\n",
       "      <td>b</td>\n",
       "      <td>0</td>\n",
       "    </tr>\n",
       "    <tr>\n",
       "      <th>2</th>\n",
       "      <td>4d3fbfa5-6847-410a-bac2-477f01d5f400</td>\n",
       "      <td>2023-07-10 20:24:33.639464</td>\n",
       "      <td>b</td>\n",
       "      <td>0</td>\n",
       "    </tr>\n",
       "    <tr>\n",
       "      <th>3</th>\n",
       "      <td>361457d9-a044-48f7-981c-d67dc3861679</td>\n",
       "      <td>2023-07-20 07:04:49.957013</td>\n",
       "      <td>b</td>\n",
       "      <td>0</td>\n",
       "    </tr>\n",
       "    <tr>\n",
       "      <th>4</th>\n",
       "      <td>285cd63d-7d03-427f-a062-1fa2dd2e77d6</td>\n",
       "      <td>2023-07-19 23:27:50.116680</td>\n",
       "      <td>b</td>\n",
       "      <td>0</td>\n",
       "    </tr>\n",
       "  </tbody>\n",
       "</table>\n",
       "</div>"
      ],
      "text/plain": [
       "                                user_id                   timestamp  \\\n",
       "0  7f6833e6-1141-4f20-b4b2-f1e31019b1fd  2023-07-04 04:40:55.848109   \n",
       "1  e6a6e960-d3f3-4074-a516-ba1e609b211e  2023-07-06 00:26:45.486187   \n",
       "2  4d3fbfa5-6847-410a-bac2-477f01d5f400  2023-07-10 20:24:33.639464   \n",
       "3  361457d9-a044-48f7-981c-d67dc3861679  2023-07-20 07:04:49.957013   \n",
       "4  285cd63d-7d03-427f-a062-1fa2dd2e77d6  2023-07-19 23:27:50.116680   \n",
       "\n",
       "  test_group  conversion  \n",
       "0          a           0  \n",
       "1          b           0  \n",
       "2          b           0  \n",
       "3          b           0  \n",
       "4          b           0  "
      ]
     },
     "execution_count": 4,
     "metadata": {},
     "output_type": "execute_result"
    }
   ],
   "source": [
    "ab_test = pd.read_csv('ab_test_data.csv')\n",
    "ab_test.head()"
   ]
  },
  {
   "cell_type": "code",
   "execution_count": 5,
   "id": "876a9643",
   "metadata": {},
   "outputs": [
    {
     "name": "stdout",
     "output_type": "stream",
     "text": [
      "user_id       object\n",
      "timestamp     object\n",
      "test_group    object\n",
      "conversion     int64\n",
      "dtype: object\n"
     ]
    }
   ],
   "source": [
    "#verific tipul de date\n",
    "ab_test_data = pd.DataFrame(ab_test)\n",
    "print(ab_test_data.dtypes)"
   ]
  },
  {
   "cell_type": "markdown",
   "id": "956084c2",
   "metadata": {},
   "source": [
    "# Numarul de utilizatori in grupele A si B"
   ]
  },
  {
   "cell_type": "code",
   "execution_count": 6,
   "id": "d8c5418c",
   "metadata": {},
   "outputs": [
    {
     "data": {
      "text/plain": [
       "test_group\n",
       "a    10013\n",
       "b     9985\n",
       "Name: count, dtype: int64"
      ]
     },
     "execution_count": 6,
     "metadata": {},
     "output_type": "execute_result"
    }
   ],
   "source": [
    "nr_utilizatori  = ab_test_data['test_group'].value_counts()\n",
    "nr_utilizatori"
   ]
  },
  {
   "cell_type": "markdown",
   "id": "aacaa2cf",
   "metadata": {},
   "source": [
    "# Numarul de conversii in grupurile A si B"
   ]
  },
  {
   "cell_type": "code",
   "execution_count": 7,
   "id": "cbe99fba",
   "metadata": {},
   "outputs": [
    {
     "data": {
      "text/plain": [
       "user_id       b22928dd-1413-4c50-a239-45378cd4f7b396ecc004-2...\n",
       "timestamp     2023-07-07 19:35:26.6691722023-07-24 11:38:53....\n",
       "test_group    abbbabbbabbaabbaabbaaaaaaaaaabbabbbbbabbbabbbb...\n",
       "conversion                                                 1500\n",
       "dtype: object"
      ]
     },
     "execution_count": 7,
     "metadata": {},
     "output_type": "execute_result"
    }
   ],
   "source": [
    "#selectez toate inregistrarile din setul de date ab_test_data care au valoarea 1 pe coloana conversion apoi fac suma valorilor acestora\n",
    "conversii = ab_test_data[ab_test_data['conversion'] == 1]\n",
    "conversii.sum()"
   ]
  },
  {
   "cell_type": "code",
   "execution_count": 8,
   "id": "3c0e57a8",
   "metadata": {},
   "outputs": [
    {
     "data": {
      "text/plain": [
       "test_group\n",
       "b    889\n",
       "a    611\n",
       "Name: count, dtype: int64"
      ]
     },
     "execution_count": 8,
     "metadata": {},
     "output_type": "execute_result"
    }
   ],
   "source": [
    "#grupez valorile rezultate in functie de grup A respectiv B\n",
    "conversii_grupate = conversii['test_group'].value_counts()\n",
    "conversii_grupate"
   ]
  },
  {
   "cell_type": "markdown",
   "id": "8cd64e3b",
   "metadata": {},
   "source": [
    "# Rata de conversie în grupurile A și B"
   ]
  },
  {
   "cell_type": "code",
   "execution_count": 9,
   "id": "621403b3",
   "metadata": {},
   "outputs": [
    {
     "data": {
      "text/plain": [
       "0.06102067312493758"
      ]
     },
     "execution_count": 9,
     "metadata": {},
     "output_type": "execute_result"
    }
   ],
   "source": [
    "#Calculez rata de conversie pentru grupa A si o afisez\n",
    "cr_a = conversii_grupate['a'] / nr_utilizatori['a']\n",
    "cr_a"
   ]
  },
  {
   "cell_type": "code",
   "execution_count": 10,
   "id": "de597275",
   "metadata": {},
   "outputs": [
    {
     "data": {
      "text/plain": [
       "0.08903355032548824"
      ]
     },
     "execution_count": 10,
     "metadata": {},
     "output_type": "execute_result"
    }
   ],
   "source": [
    "#Calculez rata de conversie pentru grupa B si o afisez\n",
    "cr_b = conversii_grupate['b'] / nr_utilizatori['b']\n",
    "cr_b"
   ]
  },
  {
   "cell_type": "markdown",
   "id": "cb0aaa01",
   "metadata": {},
   "source": [
    "# Data de început și data de sfârșit a testului, împreună cu durata acestuia în zile"
   ]
  },
  {
   "cell_type": "code",
   "execution_count": 11,
   "id": "c3ffe83a",
   "metadata": {},
   "outputs": [],
   "source": [
    "dt_inceput = ab_test_data['timestamp'].min()\n",
    "dt_sfarsit = ab_test_data['timestamp'].max()"
   ]
  },
  {
   "cell_type": "code",
   "execution_count": 12,
   "id": "9a99ce48",
   "metadata": {},
   "outputs": [
    {
     "data": {
      "text/plain": [
       "'2023-07-03 01:42:34.033708'"
      ]
     },
     "execution_count": 12,
     "metadata": {},
     "output_type": "execute_result"
    }
   ],
   "source": [
    "dt_inceput"
   ]
  },
  {
   "cell_type": "code",
   "execution_count": 13,
   "id": "4a424ccd",
   "metadata": {},
   "outputs": [
    {
     "data": {
      "text/plain": [
       "'2023-07-25 01:41:19.152664'"
      ]
     },
     "execution_count": 13,
     "metadata": {},
     "output_type": "execute_result"
    }
   ],
   "source": [
    "dt_sfarsit"
   ]
  },
  {
   "cell_type": "code",
   "execution_count": 14,
   "id": "ee591422",
   "metadata": {},
   "outputs": [],
   "source": [
    "#Convertesc valorile coloanei timestamp din ab_test_data in obiect de tip datetime \n",
    "ab_test_data['timestamp'] = pd.to_datetime(ab_test_data['timestamp'])"
   ]
  },
  {
   "cell_type": "code",
   "execution_count": 15,
   "id": "207ac664",
   "metadata": {},
   "outputs": [],
   "source": [
    "inceput = ab_test_data['timestamp'].min()\n",
    "sfarsit = ab_test_data['timestamp'].max()"
   ]
  },
  {
   "cell_type": "code",
   "execution_count": 18,
   "id": "626bf5be",
   "metadata": {},
   "outputs": [],
   "source": [
    "#Calculez diferenta dintre data de sfarsit si cea de inceput si o exprim in zile\n",
    "durata_test = (sfarsit - inceput).days"
   ]
  },
  {
   "cell_type": "code",
   "execution_count": 19,
   "id": "69636b6d",
   "metadata": {},
   "outputs": [
    {
     "data": {
      "text/plain": [
       "21"
      ]
     },
     "execution_count": 19,
     "metadata": {},
     "output_type": "execute_result"
    }
   ],
   "source": [
    "durata_test"
   ]
  },
  {
   "cell_type": "markdown",
   "id": "430f721e",
   "metadata": {},
   "source": [
    "# Alege un criteriu statistic pentru a testa ipotezele și calcula statistica și p-value. Verifică dacă putem respinge ipoteza nulă."
   ]
  },
  {
   "cell_type": "code",
   "execution_count": 21,
   "id": "682779cd",
   "metadata": {},
   "outputs": [
    {
     "name": "stdout",
     "output_type": "stream",
     "text": [
      "t-statistic: -7.53, p-value: 0.0\n"
     ]
    }
   ],
   "source": [
    "alpha = 0.05\n",
    "t_statistic, p_value = stats.ttest_ind(ab_test_data[ab_test_data['test_group'] == 'a']['conversion'],\n",
    "                                       ab_test_data[ab_test_data['test_group'] == 'b']['conversion'])\n",
    "print(f't-statistic: {round(t_statistic, 2)}, p-value: {round(p_value, 2)}')"
   ]
  },
  {
   "cell_type": "code",
   "execution_count": 22,
   "id": "da892721",
   "metadata": {},
   "outputs": [
    {
     "name": "stdout",
     "output_type": "stream",
     "text": [
      "Diferența este semnificativă statistic, H0 este respinsă.\n"
     ]
    }
   ],
   "source": [
    "if p_value < alpha:\n",
    "    print('Diferența este semnificativă statistic, H0 este respinsă.')\n",
    "else:\n",
    "    print('Diferența nu este semnificativă statistic, H0 se susține.')"
   ]
  },
  {
   "cell_type": "markdown",
   "id": "468ada82",
   "metadata": {},
   "source": [
    "# O vizualizare pentru a compara valorile medii în grupurile cu intervale de încredere de 95%"
   ]
  },
  {
   "cell_type": "code",
   "execution_count": 23,
   "id": "ed664c13",
   "metadata": {},
   "outputs": [],
   "source": [
    "grupa_a = ab_test_data[ab_test_data['test_group'] == 'a']['conversion']\n",
    "grupa_b = ab_test_data[ab_test_data['test_group'] == 'b']['conversion']"
   ]
  },
  {
   "cell_type": "code",
   "execution_count": 29,
   "id": "8bd06a4d",
   "metadata": {},
   "outputs": [],
   "source": [
    "#Calculez media pe grupe A si B\n",
    "media_a = grupa_a.mean()\n",
    "media_b = grupa_b.mean()"
   ]
  },
  {
   "cell_type": "code",
   "execution_count": 30,
   "id": "a1d25416",
   "metadata": {},
   "outputs": [],
   "source": [
    "#Deviatia standar pe grupe A si B\n",
    "stdev_a = grupa_a.std()\n",
    "stdev_b = grupa_b.std()"
   ]
  },
  {
   "cell_type": "code",
   "execution_count": 26,
   "id": "3c5223fa",
   "metadata": {},
   "outputs": [],
   "source": [
    "#Nr de inregistrari pe fiecare grupa \n",
    "dimensiune_a = len(grupa_a)\n",
    "dimensiune_b = len(grupa_b)"
   ]
  },
  {
   "cell_type": "code",
   "execution_count": 27,
   "id": "c4a25606",
   "metadata": {},
   "outputs": [
    {
     "data": {
      "text/plain": [
       "10013"
      ]
     },
     "execution_count": 27,
     "metadata": {},
     "output_type": "execute_result"
    }
   ],
   "source": [
    "dimensiune_a"
   ]
  },
  {
   "cell_type": "code",
   "execution_count": 28,
   "id": "b22eb82c",
   "metadata": {},
   "outputs": [
    {
     "data": {
      "text/plain": [
       "9985"
      ]
     },
     "execution_count": 28,
     "metadata": {},
     "output_type": "execute_result"
    }
   ],
   "source": [
    "dimensiune_b"
   ]
  },
  {
   "cell_type": "code",
   "execution_count": 31,
   "id": "5795a6f5",
   "metadata": {},
   "outputs": [],
   "source": [
    "#Eroarea standard pt fiecare grupa \n",
    "standard_err_a = stdev_a / np.sqrt(dimensiune_a)\n",
    "standard_err_b = stdev_b / np.sqrt(dimensiune_b)"
   ]
  },
  {
   "cell_type": "code",
   "execution_count": 32,
   "id": "f19ecadf",
   "metadata": {},
   "outputs": [
    {
     "data": {
      "text/plain": [
       "0.0023922474036904267"
      ]
     },
     "execution_count": 32,
     "metadata": {},
     "output_type": "execute_result"
    }
   ],
   "source": [
    "standard_err_a"
   ]
  },
  {
   "cell_type": "code",
   "execution_count": 33,
   "id": "b77e5f8e",
   "metadata": {},
   "outputs": [
    {
     "data": {
      "text/plain": [
       "0.0028502027249147003"
      ]
     },
     "execution_count": 33,
     "metadata": {},
     "output_type": "execute_result"
    }
   ],
   "source": [
    "standard_err_b"
   ]
  },
  {
   "cell_type": "code",
   "execution_count": 34,
   "id": "a80b0efc",
   "metadata": {},
   "outputs": [],
   "source": [
    "#Calculez intervalul de incredere pt media conversiilor fiecarei grupe \n",
    "incredere_a = (media_a - 1.96 * standard_err_a, media_a + 1.96 * standard_err_a)\n",
    "incredere_b = (media_b - 1.96 * standard_err_b, media_b + 1.96 * standard_err_b)"
   ]
  },
  {
   "cell_type": "code",
   "execution_count": 35,
   "id": "14674199",
   "metadata": {},
   "outputs": [
    {
     "data": {
      "text/plain": [
       "(0.05633186821370434, 0.06570947803617082)"
      ]
     },
     "execution_count": 35,
     "metadata": {},
     "output_type": "execute_result"
    }
   ],
   "source": [
    "incredere_a"
   ]
  },
  {
   "cell_type": "code",
   "execution_count": 36,
   "id": "c40c3ea8",
   "metadata": {},
   "outputs": [
    {
     "data": {
      "text/plain": [
       "(0.08344715298465542, 0.09461994766632105)"
      ]
     },
     "execution_count": 36,
     "metadata": {},
     "output_type": "execute_result"
    }
   ],
   "source": [
    "incredere_b"
   ]
  },
  {
   "cell_type": "code",
   "execution_count": 39,
   "id": "a916a033",
   "metadata": {},
   "outputs": [
    {
     "data": {
      "image/png": "[encoded data removed]",
      "text/plain": [
       "<Figure size 640x480 with 1 Axes>"
      ]
     },
     "metadata": {},
     "output_type": "display_data"
    }
   ],
   "source": [
    "#Creez graficul pent vizualizare a valoriilor medii ale conversiilor pt cele doua grupe A si B\n",
    "plt.bar(['Grupa A', 'Grupa B'], [media_a, media_b], yerr=[1.96 * standard_err_a, 1.96 * standard_err_b], color= 'royalblue')\n",
    "plt.title('Valorile medii cu interval de încredere de 95%')\n",
    "plt.show()"
   ]
  },
  {
   "cell_type": "code",
   "execution_count": 40,
   "id": "d4ac92a7",
   "metadata": {},
   "outputs": [],
   "source": [
    "#In concluze putem spune ca in urma testarii A/B ce a durat 21 de zile prima ipoteza cea nula poate fi respinsa deoarece\n",
    "#grupa B a aratat (conform graficului de mai sus) o crestere semnificativa fata de grupa A,\n",
    "#fap ce demonstreaza ca folosirea ecranului alternativ a adus rezultatele dorite (conform cu ipoteza H1 -"
   ]
  },
  {
   "cell_type": "code",
   "execution_count": null,
   "id": "5d4eefbc",
   "metadata": {},
   "outputs": [],
   "source": []
  }
 ],
 "metadata": {
  "kernelspec": {
   "display_name": "Python 3 (ipykernel)",
   "language": "python",
   "name": "python3"
  },
  "language_info": {
   "codemirror_mode": {
    "name": "ipython",
    "version": 3
   },
   "file_extension": ".py",
   "mimetype": "text/x-python",
   "name": "python",
   "nbconvert_exporter": "python",
   "pygments_lexer": "ipython3",
   "version": "3.11.7"
  }
 },
 "nbformat": 4,
 "nbformat_minor": 5
}
